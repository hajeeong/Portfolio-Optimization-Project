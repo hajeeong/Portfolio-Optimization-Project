{
 "cells": [
  {
   "cell_type": "markdown",
   "metadata": {},
   "source": [
    "# Implementation of Modern Portfolio Theory"
   ]
  },
  {
   "cell_type": "code",
   "execution_count": 2,
   "metadata": {},
   "outputs": [],
   "source": [
    "# import libraries\n",
    "import numpy as np\n",
    "import pandas as pd\n",
    "import datetime as dt\n",
    "import yfinance as yf\n",
    "import scipy"
   ]
  },
  {
   "cell_type": "markdown",
   "metadata": {},
   "source": [
    "# Modern Portfolio Theory (Markowitz Efficient Frontier)\n",
    "\n",
    "Efficient Frontier: This represents the set of optimal portfolios offering the highest expected return for a defined level of risk. Portfolios on the efficient frontier are considered well-diversified and optimal.\n",
    "\n",
    "### Modern Portfolio Theory Formula\n",
    "\n",
    "For a given **risk tolerance** $q \\geq 0 $, the efficient frontier is determined by minimizing:\n",
    "\n",
    "$$\n",
    "w^T \\Sigma w - q R^T w\n",
    "$$\n",
    "\n",
    "where:\n",
    "\n",
    "- $w$: Vector of portfolio weights, summing to 1 (weights can be negative).\n",
    "- $\\Sigma$: Covariance matrix of asset returns.\n",
    "- $q$: Risk tolerance parameter; $q = 0$: Minimum variance portfolio. $q \\to \\infty$: Portfolios with unbounded expected return and risk.\n",
    "- $R$: Vector of expected asset returns.\n",
    "- $w^T \\Sigma w$: Portfolio return variance.\n",
    "- $R^T w$: Expected portfolio return."
   ]
  },
  {
   "cell_type": "code",
   "execution_count": 3,
   "metadata": {},
   "outputs": [
    {
     "name": "stderr",
     "output_type": "stream",
     "text": [
      "[*********************100%***********************]  3 of 3 completed\n",
      "\n",
      "1 Failed download:\n",
      "['TSLA']: OperationalError('database is locked')\n"
     ]
    },
    {
     "name": "stdout",
     "output_type": "stream",
     "text": [
      "Portfolio Return: 10.53%\n",
      "Portfolio Standard Deviation: nan%\n"
     ]
    },
    {
     "name": "stderr",
     "output_type": "stream",
     "text": [
      "/var/folders/cd/7ncxf4rn7q19v1nd6sf6h8y40000gn/T/ipykernel_5400/2333569247.py:6: FutureWarning: The default fill_method='pad' in DataFrame.pct_change is deprecated and will be removed in a future version. Either fill in any non-leading NA values prior to calling pct_change or specify 'fill_method=None' to not fill NA values.\n",
      "  returns = stockData.pct_change()\n"
     ]
    }
   ],
   "source": [
    "# Import data\n",
    "def getData(stocks, start, end):\n",
    "    stockData = yf.download(stocks, start=start, end=end)['Close']\n",
    "\n",
    "    # Calculate daily returns, mean returns, and covariance matrix\n",
    "    returns = stockData.pct_change()\n",
    "    meanReturns = returns.mean()\n",
    "    covMatrix = returns.cov()\n",
    "    return meanReturns, covMatrix\n",
    "\n",
    "def portfolioPerformance(weights, meanReturns, covMatrix):\n",
    "    weights = np.array(weights)  # Convert weights to NumPy array\n",
    "    returns = np.sum(meanReturns * weights) * 252  # Annualized return\n",
    "    std = np.sqrt(np.dot(weights.T, np.dot(covMatrix, weights))) * np.sqrt(252)  # Annualized standard deviation\n",
    "    return returns, std\n",
    "\n",
    "# Define stock tickers\n",
    "stockList = ['AAPL', 'MSFT', 'TSLA']\n",
    "\n",
    "# Define date range\n",
    "endDate = dt.datetime.now()\n",
    "startDate = endDate - dt.timedelta(days=365)\n",
    "\n",
    "# Portfolio weights\n",
    "weights = [0.3, 0.3, 0.4]\n",
    "\n",
    "# Fetch mean returns and covariance matrix\n",
    "meanReturns, covMatrix = getData(stockList, start=startDate.strftime('%Y-%m-%d'), end=endDate.strftime('%Y-%m-%d'))\n",
    "\n",
    "# Calculate portfolio performance\n",
    "returns, std = portfolioPerformance(weights, meanReturns, covMatrix)\n",
    "print(f\"Portfolio Return: {round(returns * 100, 2)}%\")\n",
    "print(f\"Portfolio Standard Deviation: {round(std * 100, 2)}%\")"
   ]
  },
  {
   "cell_type": "markdown",
   "metadata": {},
   "source": [
    "# Portfolio Optimization: Minimizing Risk\n",
    "\n",
    "We can formulate this portfolio optimization problem in three equivalent ways. One of them is:\n",
    "\n",
    "### Minimize Portfolio Risk\n",
    "Minimize the portfolio risk subject to a constraint expressing a lower bound on the portfolio return:\n",
    "\n",
    "### Problem Formulation\n",
    "$$\n",
    "\\min \\ \\frac{1}{2} \\mathbf{w}^T \\Sigma \\mathbf{w}\n",
    "$$\n",
    "\n",
    "**Subject to:**\n",
    "\n",
    "1. $ \\mathbf{m}^T \\mathbf{w} \\geq \\mu_b $ (Portfolio Return above $ \\mu_b $)  \n",
    "2. $ \\mathbf{e}^T \\mathbf{w} = 1 $ \n",
    "\n",
    "### Variables:\n",
    "- $ \\mathbf{w} $: Vector of portfolio weightings  \n",
    "- $ \\Sigma $: Covariance matrix  \n",
    "- $ \\mathbf{m} $: Vector of asset returns  \n",
    "- $ \\mathbf{e} $: Vector of 1s  \n",
    "\n",
    "This is what we want to use in order to generate the efficient frontier later on.\n",
    "\n",
    "We're just going to be focusing on a small subset which is getting the weights of the maximum sharp ratio portfolio."
   ]
  },
  {
   "cell_type": "code",
   "execution_count": 4,
   "metadata": {},
   "outputs": [
    {
     "name": "stderr",
     "output_type": "stream",
     "text": [
      "[                       0%                       ]"
     ]
    },
    {
     "name": "stderr",
     "output_type": "stream",
     "text": [
      "[*********************100%***********************]  3 of 3 completed\n"
     ]
    },
    {
     "name": "stdout",
     "output_type": "stream",
     "text": [
      "Maximum Sharpe Ratio: 1.184980372547164\n",
      "Optimal Weights (Max Sharpe Ratio): [0.69494909 0.10446686 0.20058405]\n",
      "Minimum Variance: 0.00029003880924571797\n",
      "Optimal Weights (Min Variance): [0.33333333 0.33333333 0.33333333]\n"
     ]
    }
   ],
   "source": [
    "# Fetch stock data\n",
    "def getData(stocks, start, end):\n",
    "    stockData = yf.download(stocks, start=start, end=end)['Close']\n",
    "    returns = stockData.pct_change()\n",
    "    meanReturns = returns.mean()\n",
    "    covMatrix = returns.cov()\n",
    "    return meanReturns, covMatrix\n",
    "\n",
    "\n",
    "# Calculate portfolio performance\n",
    "def portfolioPerformance(weights, meanReturns, covMatrix):\n",
    "    weights = np.array(weights)\n",
    "    returns = np.sum(meanReturns * weights) * 252\n",
    "    std = np.sqrt(np.dot(weights.T, np.dot(covMatrix, weights))) * np.sqrt(252)\n",
    "    return returns, std\n",
    "\n",
    "# Negative Sharpe Ratio\n",
    "def negativeSR(weights, meanReturns, covMatrix, riskFreeRate=0):\n",
    "    pReturns, pStd = portfolioPerformance(weights, meanReturns, covMatrix)\n",
    "    # Add small constant to avoid division by zero\n",
    "    return -(pReturns - riskFreeRate) / (pStd + 1e-6)\n",
    "\n",
    "# Maximize Sharpe Ratio\n",
    "def maxSR(meanReturns, covMatrix, riskFreeRate=0, constrainSet=(0, 1)):\n",
    "    \"\"\"\n",
    "    Minimize the negative Sharpe Ratio by altering the portfolio weights\n",
    "    \"\"\"\n",
    "    numAssets = len(meanReturns)\n",
    "    args = (meanReturns, covMatrix, riskFreeRate)\n",
    "    constraints = ({'type': 'eq', 'fun': lambda x: np.sum(x) - 1})\n",
    "    bounds = tuple(constrainSet for asset in range(numAssets))\n",
    "    result = scipy.optimize.minimize(  # Use minimize directly\n",
    "        negativeSR,\n",
    "        numAssets * [1. / numAssets],\n",
    "        args=args,\n",
    "        method='SLSQP',\n",
    "        bounds=bounds,\n",
    "        constraints=constraints\n",
    "    )\n",
    "    return result\n",
    "\n",
    "# Portfolio Variance\n",
    "def portfolioVariance(weights, meanReturns, covMatrix):\n",
    "    weights = np.array(weights)\n",
    "    variance = np.dot(weights.T, np.dot(covMatrix, weights))\n",
    "    return variance\n",
    "\n",
    "# Minimize Portfolio Variance\n",
    "def minimizeVariance(meanReturns, covMatrix, constrainSet=(0, 1)):\n",
    "    \"\"\"\n",
    "    Minimize the portfolio variance by altering the weights/allocation of assets in the portfolio\n",
    "    \"\"\"\n",
    "    numAssets = len(meanReturns)\n",
    "    args = (meanReturns, covMatrix)\n",
    "    constraints = ({'type': 'eq', 'fun': lambda x: np.sum(x) - 1})\n",
    "    bounds = tuple(constrainSet for asset in range(numAssets))\n",
    "    result = scipy.optimize.minimize(  # Use minimize directly\n",
    "        portfolioVariance,\n",
    "        numAssets * [1. / numAssets],\n",
    "        args=args,\n",
    "        method='SLSQP',\n",
    "        bounds=bounds,\n",
    "        constraints=constraints\n",
    "    )\n",
    "    return result\n",
    "\n",
    "# Main\n",
    "stockList = ['AAPL', 'MSFT', 'TSLA']\n",
    "\n",
    "endDate = dt.datetime.now()\n",
    "startDate = endDate - dt.timedelta(days=365)\n",
    "\n",
    "# Fetch data and calculate optimal portfolio\n",
    "meanReturns, covMatrix = getData(stockList, start=startDate.strftime('%Y-%m-%d'), end=endDate.strftime('%Y-%m-%d'))\n",
    "\n",
    "# Maximize Sharpe Ratio\n",
    "result = maxSR(meanReturns, covMatrix)\n",
    "maxSR, maxWeights = -result['fun'], result['x']  # Sharpe Ratio is the negative of the minimized value\n",
    "print(\"Maximum Sharpe Ratio:\", maxSR)\n",
    "print(\"Optimal Weights (Max Sharpe Ratio):\", maxWeights)\n",
    "\n",
    "# Minimize Variance\n",
    "minVarResult = minimizeVariance(meanReturns, covMatrix)\n",
    "minVar, minVarWeights = minVarResult['fun'], minVarResult['x']\n",
    "print(\"Minimum Variance:\", minVar)\n",
    "print(\"Optimal Weights (Min Variance):\", minVarWeights)\n"
   ]
  },
  {
   "cell_type": "code",
   "execution_count": 5,
   "metadata": {},
   "outputs": [
    {
     "name": "stderr",
     "output_type": "stream",
     "text": [
      "[                       0%                       ]"
     ]
    },
    {
     "name": "stderr",
     "output_type": "stream",
     "text": [
      "[*********************100%***********************]  3 of 3 completed"
     ]
    },
    {
     "name": "stdout",
     "output_type": "stream",
     "text": [
      "(np.float64(28.25), np.float64(23.84),         allocation\n",
      "Ticker            \n",
      "AAPL          69.0\n",
      "MSFT          10.0\n",
      "TSLA          20.0, np.float64(29.92), np.float64(27.04),         allocation\n",
      "Ticker            \n",
      "AAPL          33.0\n",
      "MSFT          33.0\n",
      "TSLA          33.0)\n"
     ]
    },
    {
     "name": "stderr",
     "output_type": "stream",
     "text": [
      "\n"
     ]
    }
   ],
   "source": [
    "# Fetch stock data\n",
    "def getData(stocks, start, end):\n",
    "    stockData = yf.download(stocks, start=start, end=end)['Close']\n",
    "    returns = stockData.pct_change()\n",
    "    meanReturns = returns.mean()\n",
    "    covMatrix = returns.cov()\n",
    "    return meanReturns, covMatrix\n",
    "\n",
    "\n",
    "# Calculate portfolio performance\n",
    "def portfolioPerformance(weights, meanReturns, covMatrix):\n",
    "    weights = np.array(weights)\n",
    "    returns = np.sum(meanReturns * weights) * 252\n",
    "    std = np.sqrt(np.dot(weights.T, np.dot(covMatrix, weights))) * np.sqrt(252)\n",
    "    return returns, std\n",
    "\n",
    "# Negative Sharpe Ratio\n",
    "def negativeSR(weights, meanReturns, covMatrix, riskFreeRate=0):\n",
    "    pReturns, pStd = portfolioPerformance(weights, meanReturns, covMatrix)\n",
    "    # Add small constant to avoid division by zero\n",
    "    return -(pReturns - riskFreeRate) / (pStd + 1e-6)\n",
    "\n",
    "# Maximize Sharpe Ratio\n",
    "def maxSR(meanReturns, covMatrix, riskFreeRate=0, constrainSet=(0, 1)):\n",
    "    \"\"\"\n",
    "    Minimize the negative Sharpe Ratio by altering the portfolio weights\n",
    "    \"\"\"\n",
    "    numAssets = len(meanReturns)\n",
    "    args = (meanReturns, covMatrix, riskFreeRate)\n",
    "    constraints = ({'type': 'eq', 'fun': lambda x: np.sum(x) - 1})\n",
    "    bounds = tuple(constrainSet for asset in range(numAssets))\n",
    "    result = scipy.optimize.minimize(  # Use minimize directly\n",
    "        negativeSR,\n",
    "        numAssets * [1. / numAssets],\n",
    "        args=args,\n",
    "        method='SLSQP',\n",
    "        bounds=bounds,\n",
    "        constraints=constraints\n",
    "    )\n",
    "    return result\n",
    "\n",
    "# Portfolio Variance\n",
    "def portfolioVariance(weights, meanReturns, covMatrix):\n",
    "    weights = np.array(weights)\n",
    "    variance = np.dot(weights.T, np.dot(covMatrix, weights))\n",
    "    return variance\n",
    "\n",
    "# Minimize Portfolio Variance\n",
    "def minimizeVariance(meanReturns, covMatrix, constrainSet=(0, 1)):\n",
    "    \"\"\"\n",
    "    Minimize the portfolio variance by altering the weights/allocation of assets in the portfolio\n",
    "    \"\"\"\n",
    "    numAssets = len(meanReturns)\n",
    "    args = (meanReturns, covMatrix)\n",
    "    constraints = ({'type': 'eq', 'fun': lambda x: np.sum(x) - 1})\n",
    "    bounds = tuple(constrainSet for asset in range(numAssets))\n",
    "    result = scipy.optimize.minimize(  # Use minimize directly\n",
    "        portfolioVariance,\n",
    "        numAssets * [1. / numAssets],\n",
    "        args=args,\n",
    "        method='SLSQP',\n",
    "        bounds=bounds,\n",
    "        constraints=constraints\n",
    "    )\n",
    "    return result\n",
    "\n",
    "# Main\n",
    "stockList = ['AAPL', 'MSFT', 'TSLA']\n",
    "\n",
    "endDate = dt.datetime.now()\n",
    "startDate = endDate - dt.timedelta(days=365)\n",
    "\n",
    "# Fetch data and calculate optimal portfolio\n",
    "meanReturns, covMatrix = getData(stockList, start=startDate.strftime('%Y-%m-%d'), end=endDate.strftime('%Y-%m-%d'))\n",
    "\n",
    "def calculatedResults(meanReturns, covMatrix, riskFreeRate=0, constraintSet=(0, 1)):\n",
    "    \"\"\"\n",
    "    Read in mean, cov matrix, and other financial information\n",
    "    Output, Max SR, Min Volatility, efficient frontier\n",
    "    \"\"\"\n",
    "    # Max Sharp Ratio Portfolio\n",
    "    maxSR_Portfolio = maxSR(meanReturns, covMatrix)\n",
    "    maxSR_returns, maxSR_std = portfolioPerformance(maxSR_Portfolio['x'], meanReturns, covMatrix)\n",
    "    maxSR_returns, maxSR_std = round(maxSR_returns * 100, 2), round(maxSR_std * 100, 2)\n",
    "    maxSR_allocation = pd.DataFrame(maxSR_Portfolio['x'], index=meanReturns.index, columns=['allocation'])\n",
    "    maxSR_allocation.allocation = [round(i * 100, 0) for i in maxSR_allocation.allocation]\n",
    "\n",
    "    # Min Volatility Portfolio\n",
    "    minVol_Portfolio = minimizeVariance(meanReturns, covMatrix)\n",
    "    minVol_returns, minVol_std = portfolioPerformance(minVol_Portfolio['x'], meanReturns, covMatrix)\n",
    "    minVol_returns, minVol_std = round(minVol_returns * 100, 2), round(minVol_std * 100, 2)\n",
    "    minVol_allocation = pd.DataFrame(minVol_Portfolio['x'], index=meanReturns.index, columns=['allocation'])\n",
    "    minVol_allocation.allocation = [round(i * 100, 0) for i in minVol_allocation.allocation]\n",
    "    return maxSR_returns, maxSR_std, maxSR_allocation, minVol_returns, minVol_std, minVol_allocation\n",
    "\n",
    "print(calculatedResults(meanReturns, covMatrix))"
   ]
  },
  {
   "cell_type": "code",
   "execution_count": 7,
   "metadata": {},
   "outputs": [
    {
     "name": "stdout",
     "output_type": "stream",
     "text": [
      "(np.float64(28.25), np.float64(23.84),         allocation\n",
      "Ticker            \n",
      "AAPL          69.0\n",
      "MSFT          10.0\n",
      "TSLA          20.0, np.float64(29.92), np.float64(27.04),         allocation\n",
      "Ticker            \n",
      "AAPL          33.0\n",
      "MSFT          33.0\n",
      "TSLA          33.0)\n"
     ]
    }
   ],
   "source": [
    "def portfolioReturn(weights, meanReturns, covMatrix):\n",
    "    return portfolioPerformance(weights, meanReturns, covMatrix)[0]\n",
    "def efficientOpt(meanReturns, covMatrix, returnTarget, constraintSet=(0, 1)):\n",
    "    \"\"\"\n",
    "    For each return Target, we want to optimize the portfolio for min variance\n",
    "    \"\"\"\n",
    "    numAssets = len(meanReturns)\n",
    "    args = (meanReturns, covMatrix)\n",
    "\n",
    "    constraints = ({'type': 'eq', 'fun': lambda x: portfolioReturn(x, meanReturns, covMatrix) - returnTarget},\n",
    "                   {'type': 'eq', 'fun': lambda x: np.sum(x) - 1})\n",
    "    bound = constraintSet\n",
    "    bounds = (constraintSet for asset in range(numAssets))\n",
    "    effOpt = scipy.optimize.minimize(portfolioVariance, numAssets * [1. / numAssets], args=args, method='SLSQP',\n",
    "                                     bounds = bounds, constraints = constraints)\n",
    "    return effOpt\n",
    "\n",
    "def calculatedResults(meanReturns, covMatrix, riskFreeRate=0, constraintSet=(0, 1)):\n",
    "    \"\"\"\n",
    "    Read in mean, cov matrix, and other financial information\n",
    "    Output, Max SR, Min Volatility, efficient frontier\n",
    "    \"\"\"\n",
    "    # Max Sharp Ratio Portfolio\n",
    "    maxSR_Portfolio = maxSR(meanReturns, covMatrix)\n",
    "    maxSR_returns, maxSR_std = portfolioPerformance(maxSR_Portfolio['x'], meanReturns, covMatrix)\n",
    "    maxSR_returns, maxSR_std = round(maxSR_returns * 100, 2), round(maxSR_std * 100, 2)\n",
    "    maxSR_allocation = pd.DataFrame(maxSR_Portfolio['x'], index=meanReturns.index, columns=['allocation'])\n",
    "    maxSR_allocation.allocation = [round(i * 100, 0) for i in maxSR_allocation.allocation]\n",
    "    \n",
    "    # Min Volatility Portfolio\n",
    "    minVol_Portfolio = minimizeVariance(meanReturns, covMatrix)\n",
    "    minVol_returns, minVol_std = portfolioPerformance(minVol_Portfolio['x'], meanReturns, covMatrix)\n",
    "    minVol_returns, minVol_std = round(minVol_returns * 100, 2), round(minVol_std * 100, 2)\n",
    "    minVol_allocation = pd.DataFrame(minVol_Portfolio['x'], index=meanReturns.index, columns=['allocation'])\n",
    "    minVol_allocation.allocation = [round(i * 100, 0) for i in minVol_allocation.allocation]\n",
    "\n",
    "    # Efficient Frontier\n",
    "    efficientList = []\n",
    "    targetReturns = np.linspace(minVol_returns, maxSR_returns, 20)\n",
    "    for target in targetReturns:\n",
    "        efficientList.append(efficientOpt(meanReturns, covMatrix, target)['fun'])\n",
    "\n",
    "    return maxSR_returns, maxSR_std, maxSR_allocation, minVol_returns, minVol_std, minVol_allocation\n",
    "\n",
    "print(calculatedResults(meanReturns, covMatrix))"
   ]
  },
  {
   "cell_type": "code",
   "execution_count": 14,
   "metadata": {},
   "outputs": [
    {
     "name": "stdout",
     "output_type": "stream",
     "text": [
      "Requirement already satisfied: plotly in /Users/hajeong/miniconda3/lib/python3.12/site-packages (5.24.1)\n",
      "Requirement already satisfied: tenacity>=6.2.0 in /Users/hajeong/miniconda3/lib/python3.12/site-packages (from plotly) (9.0.0)\n",
      "Requirement already satisfied: packaging in /Users/hajeong/miniconda3/lib/python3.12/site-packages (from plotly) (24.1)\n"
     ]
    }
   ],
   "source": [
    "# Plot\n",
    "!pip install plotly"
   ]
  },
  {
   "cell_type": "code",
   "execution_count": 15,
   "metadata": {},
   "outputs": [],
   "source": [
    "import plotly.graph_objects as go"
   ]
  },
  {
   "cell_type": "code",
   "execution_count": null,
   "metadata": {},
   "outputs": [
    {
     "data": {
      "application/vnd.plotly.v1+json": {
       "config": {
        "plotlyServerURL": "https://plot.ly"
       },
       "data": [
        {
         "marker": {
          "color": "red",
          "line": {
           "color": "black",
           "width": 3
          },
          "size": 15
         },
         "mode": "markers",
         "name": "Maximum Sharp Ratio",
         "type": "scatter",
         "x": [
          23.84
         ],
         "y": [
          28.25
         ]
        },
        {
         "marker": {
          "color": "green",
          "line": {
           "color": "black",
           "width": 3
          },
          "size": 15
         },
         "mode": "markers",
         "name": "Minimum Volatility",
         "type": "scatter",
         "x": [
          27.04
         ],
         "y": [
          29.92
         ]
        },
        {
         "line": {
          "color": "black",
          "dash": "dashdot",
          "width": 4
         },
         "mode": "lines",
         "name": "Efficient Frontier",
         "type": "scatter",
         "x": [
          0.03,
          0.03,
          0.03,
          0.03,
          0.03,
          0.03,
          0.03,
          0.03,
          0.03,
          0.03,
          0.03,
          0.03,
          0.03,
          0.03,
          0.03,
          0.03,
          0.03,
          0.03,
          0.03,
          0.03
         ],
         "y": [
          29.92,
          29.83,
          29.74,
          29.65,
          29.56,
          29.48,
          29.39,
          29.3,
          29.21,
          29.13,
          29.04,
          28.95,
          28.86,
          28.78,
          28.69,
          28.6,
          28.51,
          28.43,
          28.34,
          28.25
         ]
        }
       ],
       "layout": {
        "height": 600,
        "legend": {
         "bgcolor": "#E2E2E2",
         "bordercolor": "black",
         "borderwidth": 2,
         "traceorder": "normal",
         "x": 0.75,
         "y": 0
        },
        "showlegend": true,
        "template": {
         "data": {
          "bar": [
           {
            "error_x": {
             "color": "#2a3f5f"
            },
            "error_y": {
             "color": "#2a3f5f"
            },
            "marker": {
             "line": {
              "color": "#E5ECF6",
              "width": 0.5
             },
             "pattern": {
              "fillmode": "overlay",
              "size": 10,
              "solidity": 0.2
             }
            },
            "type": "bar"
           }
          ],
          "barpolar": [
           {
            "marker": {
             "line": {
              "color": "#E5ECF6",
              "width": 0.5
             },
             "pattern": {
              "fillmode": "overlay",
              "size": 10,
              "solidity": 0.2
             }
            },
            "type": "barpolar"
           }
          ],
          "carpet": [
           {
            "aaxis": {
             "endlinecolor": "#2a3f5f",
             "gridcolor": "white",
             "linecolor": "white",
             "minorgridcolor": "white",
             "startlinecolor": "#2a3f5f"
            },
            "baxis": {
             "endlinecolor": "#2a3f5f",
             "gridcolor": "white",
             "linecolor": "white",
             "minorgridcolor": "white",
             "startlinecolor": "#2a3f5f"
            },
            "type": "carpet"
           }
          ],
          "choropleth": [
           {
            "colorbar": {
             "outlinewidth": 0,
             "ticks": ""
            },
            "type": "choropleth"
           }
          ],
          "contour": [
           {
            "colorbar": {
             "outlinewidth": 0,
             "ticks": ""
            },
            "colorscale": [
             [
              0,
              "#0d0887"
             ],
             [
              0.1111111111111111,
              "#46039f"
             ],
             [
              0.2222222222222222,
              "#7201a8"
             ],
             [
              0.3333333333333333,
              "#9c179e"
             ],
             [
              0.4444444444444444,
              "#bd3786"
             ],
             [
              0.5555555555555556,
              "#d8576b"
             ],
             [
              0.6666666666666666,
              "#ed7953"
             ],
             [
              0.7777777777777778,
              "#fb9f3a"
             ],
             [
              0.8888888888888888,
              "#fdca26"
             ],
             [
              1,
              "#f0f921"
             ]
            ],
            "type": "contour"
           }
          ],
          "contourcarpet": [
           {
            "colorbar": {
             "outlinewidth": 0,
             "ticks": ""
            },
            "type": "contourcarpet"
           }
          ],
          "heatmap": [
           {
            "colorbar": {
             "outlinewidth": 0,
             "ticks": ""
            },
            "colorscale": [
             [
              0,
              "#0d0887"
             ],
             [
              0.1111111111111111,
              "#46039f"
             ],
             [
              0.2222222222222222,
              "#7201a8"
             ],
             [
              0.3333333333333333,
              "#9c179e"
             ],
             [
              0.4444444444444444,
              "#bd3786"
             ],
             [
              0.5555555555555556,
              "#d8576b"
             ],
             [
              0.6666666666666666,
              "#ed7953"
             ],
             [
              0.7777777777777778,
              "#fb9f3a"
             ],
             [
              0.8888888888888888,
              "#fdca26"
             ],
             [
              1,
              "#f0f921"
             ]
            ],
            "type": "heatmap"
           }
          ],
          "heatmapgl": [
           {
            "colorbar": {
             "outlinewidth": 0,
             "ticks": ""
            },
            "colorscale": [
             [
              0,
              "#0d0887"
             ],
             [
              0.1111111111111111,
              "#46039f"
             ],
             [
              0.2222222222222222,
              "#7201a8"
             ],
             [
              0.3333333333333333,
              "#9c179e"
             ],
             [
              0.4444444444444444,
              "#bd3786"
             ],
             [
              0.5555555555555556,
              "#d8576b"
             ],
             [
              0.6666666666666666,
              "#ed7953"
             ],
             [
              0.7777777777777778,
              "#fb9f3a"
             ],
             [
              0.8888888888888888,
              "#fdca26"
             ],
             [
              1,
              "#f0f921"
             ]
            ],
            "type": "heatmapgl"
           }
          ],
          "histogram": [
           {
            "marker": {
             "pattern": {
              "fillmode": "overlay",
              "size": 10,
              "solidity": 0.2
             }
            },
            "type": "histogram"
           }
          ],
          "histogram2d": [
           {
            "colorbar": {
             "outlinewidth": 0,
             "ticks": ""
            },
            "colorscale": [
             [
              0,
              "#0d0887"
             ],
             [
              0.1111111111111111,
              "#46039f"
             ],
             [
              0.2222222222222222,
              "#7201a8"
             ],
             [
              0.3333333333333333,
              "#9c179e"
             ],
             [
              0.4444444444444444,
              "#bd3786"
             ],
             [
              0.5555555555555556,
              "#d8576b"
             ],
             [
              0.6666666666666666,
              "#ed7953"
             ],
             [
              0.7777777777777778,
              "#fb9f3a"
             ],
             [
              0.8888888888888888,
              "#fdca26"
             ],
             [
              1,
              "#f0f921"
             ]
            ],
            "type": "histogram2d"
           }
          ],
          "histogram2dcontour": [
           {
            "colorbar": {
             "outlinewidth": 0,
             "ticks": ""
            },
            "colorscale": [
             [
              0,
              "#0d0887"
             ],
             [
              0.1111111111111111,
              "#46039f"
             ],
             [
              0.2222222222222222,
              "#7201a8"
             ],
             [
              0.3333333333333333,
              "#9c179e"
             ],
             [
              0.4444444444444444,
              "#bd3786"
             ],
             [
              0.5555555555555556,
              "#d8576b"
             ],
             [
              0.6666666666666666,
              "#ed7953"
             ],
             [
              0.7777777777777778,
              "#fb9f3a"
             ],
             [
              0.8888888888888888,
              "#fdca26"
             ],
             [
              1,
              "#f0f921"
             ]
            ],
            "type": "histogram2dcontour"
           }
          ],
          "mesh3d": [
           {
            "colorbar": {
             "outlinewidth": 0,
             "ticks": ""
            },
            "type": "mesh3d"
           }
          ],
          "parcoords": [
           {
            "line": {
             "colorbar": {
              "outlinewidth": 0,
              "ticks": ""
             }
            },
            "type": "parcoords"
           }
          ],
          "pie": [
           {
            "automargin": true,
            "type": "pie"
           }
          ],
          "scatter": [
           {
            "fillpattern": {
             "fillmode": "overlay",
             "size": 10,
             "solidity": 0.2
            },
            "type": "scatter"
           }
          ],
          "scatter3d": [
           {
            "line": {
             "colorbar": {
              "outlinewidth": 0,
              "ticks": ""
             }
            },
            "marker": {
             "colorbar": {
              "outlinewidth": 0,
              "ticks": ""
             }
            },
            "type": "scatter3d"
           }
          ],
          "scattercarpet": [
           {
            "marker": {
             "colorbar": {
              "outlinewidth": 0,
              "ticks": ""
             }
            },
            "type": "scattercarpet"
           }
          ],
          "scattergeo": [
           {
            "marker": {
             "colorbar": {
              "outlinewidth": 0,
              "ticks": ""
             }
            },
            "type": "scattergeo"
           }
          ],
          "scattergl": [
           {
            "marker": {
             "colorbar": {
              "outlinewidth": 0,
              "ticks": ""
             }
            },
            "type": "scattergl"
           }
          ],
          "scattermapbox": [
           {
            "marker": {
             "colorbar": {
              "outlinewidth": 0,
              "ticks": ""
             }
            },
            "type": "scattermapbox"
           }
          ],
          "scatterpolar": [
           {
            "marker": {
             "colorbar": {
              "outlinewidth": 0,
              "ticks": ""
             }
            },
            "type": "scatterpolar"
           }
          ],
          "scatterpolargl": [
           {
            "marker": {
             "colorbar": {
              "outlinewidth": 0,
              "ticks": ""
             }
            },
            "type": "scatterpolargl"
           }
          ],
          "scatterternary": [
           {
            "marker": {
             "colorbar": {
              "outlinewidth": 0,
              "ticks": ""
             }
            },
            "type": "scatterternary"
           }
          ],
          "surface": [
           {
            "colorbar": {
             "outlinewidth": 0,
             "ticks": ""
            },
            "colorscale": [
             [
              0,
              "#0d0887"
             ],
             [
              0.1111111111111111,
              "#46039f"
             ],
             [
              0.2222222222222222,
              "#7201a8"
             ],
             [
              0.3333333333333333,
              "#9c179e"
             ],
             [
              0.4444444444444444,
              "#bd3786"
             ],
             [
              0.5555555555555556,
              "#d8576b"
             ],
             [
              0.6666666666666666,
              "#ed7953"
             ],
             [
              0.7777777777777778,
              "#fb9f3a"
             ],
             [
              0.8888888888888888,
              "#fdca26"
             ],
             [
              1,
              "#f0f921"
             ]
            ],
            "type": "surface"
           }
          ],
          "table": [
           {
            "cells": {
             "fill": {
              "color": "#EBF0F8"
             },
             "line": {
              "color": "white"
             }
            },
            "header": {
             "fill": {
              "color": "#C8D4E3"
             },
             "line": {
              "color": "white"
             }
            },
            "type": "table"
           }
          ]
         },
         "layout": {
          "annotationdefaults": {
           "arrowcolor": "#2a3f5f",
           "arrowhead": 0,
           "arrowwidth": 1
          },
          "autotypenumbers": "strict",
          "coloraxis": {
           "colorbar": {
            "outlinewidth": 0,
            "ticks": ""
           }
          },
          "colorscale": {
           "diverging": [
            [
             0,
             "#8e0152"
            ],
            [
             0.1,
             "#c51b7d"
            ],
            [
             0.2,
             "#de77ae"
            ],
            [
             0.3,
             "#f1b6da"
            ],
            [
             0.4,
             "#fde0ef"
            ],
            [
             0.5,
             "#f7f7f7"
            ],
            [
             0.6,
             "#e6f5d0"
            ],
            [
             0.7,
             "#b8e186"
            ],
            [
             0.8,
             "#7fbc41"
            ],
            [
             0.9,
             "#4d9221"
            ],
            [
             1,
             "#276419"
            ]
           ],
           "sequential": [
            [
             0,
             "#0d0887"
            ],
            [
             0.1111111111111111,
             "#46039f"
            ],
            [
             0.2222222222222222,
             "#7201a8"
            ],
            [
             0.3333333333333333,
             "#9c179e"
            ],
            [
             0.4444444444444444,
             "#bd3786"
            ],
            [
             0.5555555555555556,
             "#d8576b"
            ],
            [
             0.6666666666666666,
             "#ed7953"
            ],
            [
             0.7777777777777778,
             "#fb9f3a"
            ],
            [
             0.8888888888888888,
             "#fdca26"
            ],
            [
             1,
             "#f0f921"
            ]
           ],
           "sequentialminus": [
            [
             0,
             "#0d0887"
            ],
            [
             0.1111111111111111,
             "#46039f"
            ],
            [
             0.2222222222222222,
             "#7201a8"
            ],
            [
             0.3333333333333333,
             "#9c179e"
            ],
            [
             0.4444444444444444,
             "#bd3786"
            ],
            [
             0.5555555555555556,
             "#d8576b"
            ],
            [
             0.6666666666666666,
             "#ed7953"
            ],
            [
             0.7777777777777778,
             "#fb9f3a"
            ],
            [
             0.8888888888888888,
             "#fdca26"
            ],
            [
             1,
             "#f0f921"
            ]
           ]
          },
          "colorway": [
           "#636efa",
           "#EF553B",
           "#00cc96",
           "#ab63fa",
           "#FFA15A",
           "#19d3f3",
           "#FF6692",
           "#B6E880",
           "#FF97FF",
           "#FECB52"
          ],
          "font": {
           "color": "#2a3f5f"
          },
          "geo": {
           "bgcolor": "white",
           "lakecolor": "white",
           "landcolor": "#E5ECF6",
           "showlakes": true,
           "showland": true,
           "subunitcolor": "white"
          },
          "hoverlabel": {
           "align": "left"
          },
          "hovermode": "closest",
          "mapbox": {
           "style": "light"
          },
          "paper_bgcolor": "white",
          "plot_bgcolor": "#E5ECF6",
          "polar": {
           "angularaxis": {
            "gridcolor": "white",
            "linecolor": "white",
            "ticks": ""
           },
           "bgcolor": "#E5ECF6",
           "radialaxis": {
            "gridcolor": "white",
            "linecolor": "white",
            "ticks": ""
           }
          },
          "scene": {
           "xaxis": {
            "backgroundcolor": "#E5ECF6",
            "gridcolor": "white",
            "gridwidth": 2,
            "linecolor": "white",
            "showbackground": true,
            "ticks": "",
            "zerolinecolor": "white"
           },
           "yaxis": {
            "backgroundcolor": "#E5ECF6",
            "gridcolor": "white",
            "gridwidth": 2,
            "linecolor": "white",
            "showbackground": true,
            "ticks": "",
            "zerolinecolor": "white"
           },
           "zaxis": {
            "backgroundcolor": "#E5ECF6",
            "gridcolor": "white",
            "gridwidth": 2,
            "linecolor": "white",
            "showbackground": true,
            "ticks": "",
            "zerolinecolor": "white"
           }
          },
          "shapedefaults": {
           "line": {
            "color": "#2a3f5f"
           }
          },
          "ternary": {
           "aaxis": {
            "gridcolor": "white",
            "linecolor": "white",
            "ticks": ""
           },
           "baxis": {
            "gridcolor": "white",
            "linecolor": "white",
            "ticks": ""
           },
           "bgcolor": "#E5ECF6",
           "caxis": {
            "gridcolor": "white",
            "linecolor": "white",
            "ticks": ""
           }
          },
          "title": {
           "x": 0.05
          },
          "xaxis": {
           "automargin": true,
           "gridcolor": "white",
           "linecolor": "white",
           "ticks": "",
           "title": {
            "standoff": 15
           },
           "zerolinecolor": "white",
           "zerolinewidth": 2
          },
          "yaxis": {
           "automargin": true,
           "gridcolor": "white",
           "linecolor": "white",
           "ticks": "",
           "title": {
            "standoff": 15
           },
           "zerolinecolor": "white",
           "zerolinewidth": 2
          }
         }
        },
        "title": {
         "text": "Portfolio Optimization with the Efficient Frontier"
        },
        "width": 800,
        "xaxis": {
         "title": {
          "text": "Annualized Volatility (%)"
         }
        },
        "yaxis": {
         "title": {
          "text": "Annualized Return (%)"
         }
        }
       }
      }
     },
     "metadata": {},
     "output_type": "display_data"
    }
   ],
   "source": [
    "def calculatedResults(meanReturns, covMatrix, riskFreeRate=0, constraintSet=(0, 1)):\n",
    "    \"\"\"\n",
    "    Read in mean, cov matrix, and other financial information\n",
    "    Output, Max SR, Min Volatility, efficient frontier\n",
    "    \"\"\"\n",
    "    # Max Sharp Ratio Portfolio\n",
    "    maxSR_Portfolio = maxSR(meanReturns, covMatrix)\n",
    "    maxSR_returns, maxSR_std = portfolioPerformance(maxSR_Portfolio['x'], meanReturns, covMatrix)\n",
    "    maxSR_allocation = pd.DataFrame(maxSR_Portfolio['x'], index=meanReturns.index, columns=['allocation'])\n",
    "    maxSR_allocation.allocation = [round(i * 100, 0) for i in maxSR_allocation.allocation]\n",
    "    \n",
    "    # Min Volatility Portfolio\n",
    "    minVol_Portfolio = minimizeVariance(meanReturns, covMatrix)\n",
    "    minVol_returns, minVol_std = portfolioPerformance(minVol_Portfolio['x'], meanReturns, covMatrix)\n",
    "    minVol_allocation = pd.DataFrame(minVol_Portfolio['x'], index=meanReturns.index, columns=['allocation'])\n",
    "    minVol_allocation.allocation = [round(i * 100, 0) for i in minVol_allocation.allocation]\n",
    "\n",
    "    # Efficient Frontier\n",
    "    efficientList = []\n",
    "    targetReturns = np.linspace(minVol_returns, maxSR_returns, 20)\n",
    "    for target in targetReturns:\n",
    "        efficientList.append(efficientOpt(meanReturns, covMatrix, target)['fun'])\n",
    "\n",
    "    maxSR_returns, maxSR_std = round(maxSR_returns * 100, 2), round(maxSR_std * 100, 2)\n",
    "    minVol_returns, minVol_std = round(minVol_returns * 100, 2), round(minVol_std * 100, 2)\n",
    "\n",
    "    return maxSR_returns, maxSR_std, maxSR_allocation, minVol_returns, minVol_std, minVol_allocation, efficientList, targetReturns\n",
    "\n",
    "def EF_graph(meanReturns, covMatrix, riskFreeRate=0, constraintSet=(0, 1)):\n",
    "    \"\"\"\n",
    "    Return a graph ploting the min vol, max sr and efficient frontier\n",
    "    \"\"\"\n",
    "    maxSR_returns, maxSR_std, maxSR_allocation, minVol_returns, minVol_std, minVol_allocation, efficientList, targetReturns = calculatedResults(meanReturns, covMatrix)\n",
    "    \n",
    "    # Max SR\n",
    "    maxSharpRatio = go.Scatter(\n",
    "        name='Maximum Sharp Ratio',\n",
    "        mode='markers',\n",
    "        x=[maxSR_std],\n",
    "        y=[maxSR_returns],\n",
    "        marker=dict(\n",
    "            color='red',\n",
    "            size=15,\n",
    "            line=dict(\n",
    "                color='black',\n",
    "                width=3\n",
    "            )\n",
    "        )\n",
    "    )\n",
    "\n",
    "    # Min Volatility\n",
    "    minVol = go.Scatter(\n",
    "        name='Minimum Volatility',\n",
    "        mode='markers',\n",
    "        x=[minVol_std],\n",
    "        y=[minVol_returns],\n",
    "        marker=dict(\n",
    "            color='green',\n",
    "            size=15,\n",
    "            line=dict(\n",
    "                color='black',\n",
    "                width=3\n",
    "            )\n",
    "        )\n",
    "    )\n",
    "\n",
    "    # Efficient Frontier\n",
    "    EF_curve = go.Scatter(\n",
    "        name='Efficient Frontier',\n",
    "        mode='lines',\n",
    "        x=[round(ef_std * 100, 2) for ef_std in efficientList],\n",
    "        y=[round(target * 100, 2) for target in targetReturns],\n",
    "        line=dict(\n",
    "            color='black',\n",
    "            width=4,\n",
    "            dash='dashdot'\n",
    "        )\n",
    "    )\n",
    "    \n",
    "    data = [maxSharpRatio, minVol, EF_curve]\n",
    "\n",
    "    layout = go.Layout(\n",
    "        title='Portfolio Optimization with the Efficient Frontier',\n",
    "        yaxis = dict(title = 'Annualized Return (%)'),\n",
    "        xaxis = dict(title = 'Annualized Volatility (%)'),\n",
    "        showlegend = True,\n",
    "        legend = dict(\n",
    "            x = 0.75, y = 0, traceorder = 'normal',\n",
    "            bgcolor = '#E2E2E2',\n",
    "            bordercolor = 'black',\n",
    "            borderwidth = 2),\n",
    "        width = 800,\n",
    "        height = 600    \n",
    "    )\n",
    "    \n",
    "    fig = go.Figure(data=data, layout=layout)\n",
    "    return fig.show()\n",
    "\n",
    "EF_graph(meanReturns, covMatrix)"
   ]
  },
  {
   "cell_type": "code",
   "execution_count": null,
   "metadata": {},
   "outputs": [],
   "source": []
  }
 ],
 "metadata": {
  "kernelspec": {
   "display_name": "base",
   "language": "python",
   "name": "python3"
  },
  "language_info": {
   "codemirror_mode": {
    "name": "ipython",
    "version": 3
   },
   "file_extension": ".py",
   "mimetype": "text/x-python",
   "name": "python",
   "nbconvert_exporter": "python",
   "pygments_lexer": "ipython3",
   "version": "3.12.7"
  }
 },
 "nbformat": 4,
 "nbformat_minor": 2
}
